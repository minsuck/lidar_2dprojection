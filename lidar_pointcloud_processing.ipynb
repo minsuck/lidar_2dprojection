{
 "cells": [
  {
   "cell_type": "markdown",
   "metadata": {},
   "source": [
    "# 라이다 포인트 클라우드 데이터 처리\n",
    "## 참고한 글\n",
    "(자율주행을 위한 라이다(Lidar) 센서와 라이다 포인트 클라우드 처리 방법)[https://gaussian37.github.io/autodrive-lidar-intro/]"
   ]
  },
  {
   "cell_type": "code",
   "execution_count": null,
   "metadata": {},
   "outputs": [],
   "source": [
    "# bin_to_pcd.py\n",
    "# .bin data to .pcd data\n",
    "# Using Kitti dataset\n",
    "\n",
    "import argparse\n",
    "import open3d as o3d\n",
    "import numpy as np\n",
    "import struct\n",
    "import os\n",
    "\n",
    "def get_args():\n",
    "    parser = argparse.ArgumentParser()\n",
    "    parser.add_argument('--src_path', required = True)\n",
    "    parser.add_argument('--dest_path', required = True)\n",
    "    parser.add_argument('--size_float', default = 4, type=int)\n",
    "    args = parser.parse_args()\n",
    "    \n",
    "    return args\n",
    "\n",
    "if __name__ == \"__main__\":\n",
    "    \n",
    "    args = get_args()  \n",
    "        \n",
    "    if os.path.exists(args.dest_path) == False:\n",
    "        os.makedirs(args.dest_path)\n",
    "    \n",
    "    files_to_open = os.listdir(args.src_path)\n",
    "    for file_to_open in files_to_open:\n",
    "        \n",
    "        print(\"write : \", file_to_open)\n",
    "        # list_pcd = []\n",
    "        # with open (args.src_path + os.sep + file_to_open, \"rb\") as f:\n",
    "        #     byte = f.read(args.size_float * 4)\n",
    "        #     while byte:\n",
    "        #         x,y,z,intensity = struct.unpack(\"ffff\", byte)\n",
    "        #         list_pcd.append([x, y, z])\n",
    "        #         byte = f.read(args.size_float*4)\n",
    "        # np_pcd = np.asarray(list_pcd)\n",
    "        np_pcd = np.fromfile(args.src_path + os.sep + file_to_open, dtype=np.float32).reshape((-1, 4))\n",
    "        np_pcd = np_pcd[:, :3]\n",
    "        pcd = o3d.geometry.PointCloud()\n",
    "        v3d = o3d.utility.Vector3dVector\n",
    "        pcd.points = v3d(np_pcd)\n",
    "\n",
    "        file_to_save = args.dest_path + os.sep + os.path.splitext(file_to_open)[0] + \".pcd\"\n",
    "        \n",
    "        o3d.io.write_point_cloud(file_to_save, pcd)"
   ]
  },
  {
   "cell_type": "markdown",
   "metadata": {},
   "source": [
    "### bin_to_pcd.py 실행 명령어\n",
    "python bin_to_pcd.py --src_path=/home/desktop/data_object_velodyne/training/velodyne --dest_path=/home/desktop/data_object_velodyne/training/velodyne_pcd"
   ]
  },
  {
   "cell_type": "code",
   "execution_count": 13,
   "metadata": {},
   "outputs": [],
   "source": [
    "import numpy as np\n",
    "import open3d as o3d\n",
    "from open3d.web_visualizer import draw\n",
    "pcd = o3d.io.read_point_cloud(\"data/000000.pcd\")\n",
    "\n",
    "# visualization with open3d\n",
    "o3d.visualization.draw_geometries([pcd])\n",
    "\n",
    "pcd_np = np.asarray(pcd.points)\n",
    "#print(pcd_np)\n",
    "# array([[896.994  ,  48.7601 ,  82.2656 ],\n",
    "#        [906.593  ,  48.7601 ,  80.7452 ],\n",
    "#        [907.539  ,  55.4902 ,  83.6581 ],\n",
    "#        ...,\n",
    "#        [806.665  , 627.363  ,   5.11482],\n",
    "#        [806.665  , 654.432  ,   7.51998],\n",
    "#        [806.665  , 681.537  ,   9.48744]])\n",
    "\n"
   ]
  },
  {
   "cell_type": "markdown",
   "metadata": {},
   "source": [
    "### Downsampling"
   ]
  },
  {
   "cell_type": "code",
   "execution_count": 14,
   "metadata": {},
   "outputs": [
    {
     "name": "stdout",
     "output_type": "stream",
     "text": [
      "Points before downsampling: 115384 \n",
      "Points after downsampling: 22625\n"
     ]
    }
   ],
   "source": [
    "# Get Voxel Grid Downsampling\n",
    "print(f\"Points before downsampling: {len(pcd.points)} \")\n",
    "# Points before downsampling: 115384 \n",
    "pcd = pcd.voxel_down_sample(voxel_size=0.2)\n",
    "print(f\"Points after downsampling: {len(pcd.points)}\")\n",
    "# Points after downsampling: 22625\n",
    "o3d.visualization.draw_geometries([pcd])"
   ]
  },
  {
   "cell_type": "markdown",
   "metadata": {},
   "source": [
    "### Remove Outliers"
   ]
  },
  {
   "cell_type": "markdown",
   "metadata": {},
   "source": [
    "### Segmentation"
   ]
  },
  {
   "cell_type": "markdown",
   "metadata": {},
   "source": [
    "### Clurstering"
   ]
  },
  {
   "cell_type": "markdown",
   "metadata": {},
   "source": [
    "### Generate 3D Bounding Box"
   ]
  }
 ],
 "metadata": {
  "kernelspec": {
   "display_name": "Python 3 (ipykernel)",
   "language": "python",
   "name": "python3"
  },
  "language_info": {
   "codemirror_mode": {
    "name": "ipython",
    "version": 3
   },
   "file_extension": ".py",
   "mimetype": "text/x-python",
   "name": "python",
   "nbconvert_exporter": "python",
   "pygments_lexer": "ipython3",
   "version": "3.11.5"
  }
 },
 "nbformat": 4,
 "nbformat_minor": 2
}
